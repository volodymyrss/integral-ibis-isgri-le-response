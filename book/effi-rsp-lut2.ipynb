{
 "cells": [
  {
   "cell_type": "code",
   "execution_count": null,
   "metadata": {},
   "outputs": [],
   "source": [
    "import numpy as np\n",
    "from scipy.ndimage import gaussian_filter1d as g1d\n",
    "from scipy.stats import norm\n",
    "import matplotlib.pylab as plt\n",
    "from scipy.interpolate import interp1d\n",
    "from matplotlib import cm\n"
   ]
  },
  {
   "cell_type": "markdown",
   "metadata": {},
   "source": [
    "# Calibration invariance of LUT2, rsp, efficiency\n",
    "\n",
    "$Observation$ (e.g. `ISGRI` spectral histograms) can be represented as transformation of some true $Model$ with $Response$:\n",
    "\n",
    "$$\n",
    "Observation~=~ Response \\times Model\n",
    "$$\n",
    "\n",
    "Note that $Observation$ does not belong to the same space as $Model$. For example, when $Model$ is vectors of flux in incident photon energy bins, $Observation$ is detected \n",
    "counts in detector channels. \n",
    "\n",
    "For `ISGRI`, each pixel detector channels are biparametric, described by $\\mathrm{ISGRI\\_PHA}$ and $\\mathrm{ISGRI\\_RT}$ integers.\n",
    "\n",
    "$$\n",
    "CountSpectrum\\left[\\mathrm{ISGRI\\_PHA,~ISGRI\\_RT}\\right] = \\sum_{Energy}~Response\\left[\\mathrm{ISGRI\\_PHA,~ISGRI\\_RT},~\\mathrm{Energy}\\right] \\times ModelFlux\\left[\\mathrm{Energy}\\right]\n",
    "$$\n",
    "\n",
    "Where $CountSpectrum$ is as directly returned by the pixels. This equation is valid for a single pixel at single moment of time. All pixels differ, and also evolve (in long term as well as in short disruptions of several different kinds). So it is almost always necessary to conside that (assuming that $ModelFlux$ is constant in time):\n",
    "\n",
    "$$\n",
    "CountSpectrum\\left[\\mathrm{ISGRI\\_PHA,~ISGRI\\_RT,~ISGRI\\_PIXEL,~Time}\\right] = \\sum_{Energy}~Response\\left[\\mathrm{ISGRI\\_PHA,~ISGRI\\_RT,~ISGRI\\_PIXEL,~Time},~\\mathrm{Energy}\\right] \\times ModelFlux\\left[\\mathrm{Energy}\\right]\n",
    "$$\n",
    "\n",
    "It means that `ISGRI` spectra are \n",
    "\n",
    "\n",
    "\n",
    "This way, the entire transformation from the incident flux to observation is contained in the response.\n",
    "\n",
    "\n",
    "\n",
    "$$\n",
    "CountSpectrum\\left[\\mathrm{ISGRI\\_ENERGY}\\right] = Response\\left[\\mathrm{ISGRI\\_ENERGY},~\\mathrm{Energy}\\right] \\times ModelFlux\\left[\\mathrm{Energy}\\right]\n",
    "$$\n"
   ]
  },
  {
   "cell_type": "markdown",
   "metadata": {},
   "source": [
    "## ISGRI Efficiency components\n",
    "\n",
    "### Pixel efficiency\n",
    "\n",
    "### NOMEX absorption\n",
    "\n",
    "### Uniformity"
   ]
  },
  {
   "cell_type": "code",
   "execution_count": null,
   "metadata": {},
   "outputs": [],
   "source": [
    "# TODO: measure or mimick gain from HE line alone, and from LE line alone. find which one mismatches\n",
    "\n",
    "# TODO:\n",
    "# * reconstruct with det\n",
    "# * reconstruct with det and morph\n",
    "\n",
    "# TODO: \n",
    "# reconstruct effi\n",
    "# reconstruct lut2\n",
    "# reconstruct rsp\n",
    "\n"
   ]
  }
 ],
 "metadata": {
  "interpreter": {
   "hash": "bc60d120f3d0e3f977d308901027337ccc9d58184de7444d8a29f575b7b52057"
  },
  "kernelspec": {
   "display_name": "Python 3.9.6 64-bit ('3.9.6': pyenv)",
   "language": "python",
   "name": "python3"
  },
  "language_info": {
   "codemirror_mode": {
    "name": "ipython",
    "version": 3
   },
   "file_extension": ".py",
   "mimetype": "text/x-python",
   "name": "python",
   "nbconvert_exporter": "python",
   "pygments_lexer": "ipython3",
   "version": "3.9.6"
  },
  "orig_nbformat": 4
 },
 "nbformat": 4,
 "nbformat_minor": 2
}
