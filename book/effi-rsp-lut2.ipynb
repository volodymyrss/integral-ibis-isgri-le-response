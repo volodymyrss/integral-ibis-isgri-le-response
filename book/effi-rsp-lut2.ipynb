{
 "cells": [
  {
   "cell_type": "code",
   "execution_count": null,
   "metadata": {},
   "outputs": [],
   "source": [
    "import numpy as np\n",
    "from scipy.ndimage import gaussian_filter1d as g1d\n",
    "from scipy.stats import norm\n",
    "import matplotlib.pylab as plt\n",
    "from scipy.interpolate import interp1d\n",
    "from matplotlib import cm\n"
   ]
  },
  {
   "cell_type": "markdown",
   "metadata": {
    "tags": [
     "full-width"
    ]
   },
   "source": [
    "# Calibration invariance of LUT2, rsp, efficiency\n",
    "\n",
    "## ISGRI observation space\n",
    "\n",
    "$Observation$ (e.g. `ISGRI` spectral histograms) can be represented as transformation of some true $Model$ with $Response$:\n",
    "\n",
    "$$\n",
    "Observation~=~ Response \\times Model\n",
    "$$\n",
    "\n",
    "Note that $Observation$ does not belong to the same space as $Model$. For example, when $Model$ is vectors of flux in incident photon energy bins, $Observation$ is detected \n",
    "counts in detector channels. \n",
    "\n",
    "For `ISGRI`, each pixel detector channels are biparametric, described by $\\mathrm{ISGRI\\_PHA}$ and $\\mathrm{ISGRI\\_RT}$ integers.\n",
    "\n",
    "$$\n",
    "CountSpectrum\\left[\\mathrm{ISGRI\\_PHA,~ISGRI\\_RT}\\right] = \\sum_{Energy, Coordinate}~Response\\left[\\mathrm{ISGRI\\_PHA,~ISGRI\\_RT},~\\mathrm{Energy, Coordinate}\\right] \\times ModelFlux\\left[\\mathrm{Energy, Coordinate}\\right]\n",
    "$$\n",
    "\n",
    "Where $CountSpectrum$ is as directly returned by the pixels. Here we assume that $CountSpectrum$ is additive. This assumption is almost always valud, except when dead time effects due to source rate are relevant. The latter occurred, for example, in an extremely high-flux short bursts, and can be somewhat easily treated. To simplify the notation we disregard this possibility in what follows.\n",
    "\n",
    "This equation is valid for a single pixel at single moment of time. All pixels differ, and also evolve (in long term as well as in short disruptions of several different kinds). So it is almost always necessary to conside that (here we assume that $ModelFlux$ is constant in time, and there is only one source in the Sky; this is reasonable since here we are primarily concerned with spectral reconstruction):\n",
    "\n",
    "$$\n",
    "CountSpectrum\\left[\\mathrm{Channel}\\right] = \\sum_{Energy}~Response\\left[\\mathrm{Channel},~\\mathrm{Energy}\\right] \\times ModelFlux\\left[\\mathrm{Energy}\\right]\n",
    "$$\n",
    "\n",
    "where\n",
    "\n",
    "$$\n",
    "\\mathrm{Channel} = \\left[\\mathrm{ISGRI\\_PHA,~ISGRI\\_RT,~ISGRI\\_PIXEL,~Time}\\right]\n",
    "$$\n",
    "\n",
    "\n",
    "It means that `ISGRI` spectra are, in principle, always 4-dimensional. `ISGRI` is not unique in this, many other instruments/telescopes are in a similar situation, though not many have an extra dimension fo pulse properties (the rise time).\n",
    "\n",
    "When defined in this way, the entire transformation from the incident flux to observation is contained in the response function $Response$.\n",
    "\n",
    "A 4-dimensional $Observation$ space becomes quite large, and $Response$ is even larger. Assuming that detector variations in $\\mathrm{Time}$ are at most at 100~second timescale, there are $2048 \\times 256 \\times 128 \\times 128 \\times 24 \\times 3600 / 100$ there are in total about $10^{13}$ bins in a $CountSpectrum$. There are only $10^{8}$ `ISGRI` photons per day, so this spectrum is mostly empty. Without changing the essence of the approach, it is more feasible to compare time-tagged events. In this case, it is still necessary to compute per-event response, accounting for all 4 detector variables. This approach extracts the most out of ISGRI data, but is quite computationally expensive. It was exploited in [Mereghetti, Savchenko+ 2020]() for about 1-second long event with very fine time structure. It does not currently appear realistic to apply this method even to day-long observations.\n",
    "\n",
    "Luckily, since the $Model$ space is only 1-dimensional (for a single constant source) it is possible, with only some loss of information, to reduce the size of the observation space to 1 dimension, $CountSpectrum$ in some reconstructed channel, $\\mathrm{ISGRI\\_ENERGY}$. \n",
    "\n",
    "The transformation is defined as\n",
    "\n",
    "$$\n",
    "CountSpectrum\\left[\\mathrm{ISGRI\\_ENERGY}\\right] = \\sum_{\\mathrm{Channel}}~Reconstruction\\left[\\mathrm{ISGRI\\_ENERGY, Channel}\\right] \\times CountSpectrum\\left[\\mathrm{Channel}\\right]\n",
    "$$\n",
    "\n",
    "\n",
    "In certain cases `TODO:which????` the reconstruction can be reduced to reconstruction of the channel variable.\n",
    "\n",
    "$$\n",
    "\\mathrm{ISGRI\\_ENERGY} = ChannelReconstruction\\left[\\mathrm{Channel}\\right] \\\\\n",
    "$$\n",
    "\n",
    "In `ISGRI`, $ChannelReconstruction$ has two kinds of anomalous properties:\n",
    "* for $\\mathrm{ISGRI\\_PHA}$\n",
    "* discontinuity due to\n",
    "\n",
    "Relation between $ChannelReconstruction$ and $Reconstruction$ \n",
    "\n",
    "$$\n",
    "TODO\n",
    "$$\n",
    "\n",
    "Either way:\n",
    "\n",
    "$$\n",
    "CountSpectrum\\left[\\mathrm{ISGRI\\_ENERGY}\\right] = \\sum_{Energy}~Response\\left[\\mathrm{ISGRI\\_ENERGY},~\\mathrm{Energy}\\right] \\times ModelFlux\\left[\\mathrm{Energy}\\right]\n",
    "$$\n",
    "\n",
    "Note that all this is valid for any $Reconstruction$ function. Using some peculiar $Reconstruction$ it is possible to build a very unusual but still valid channel spectra in $\\mathrm{ISGRI_ENERGY}$ which will yeild accurate $Model$ . But, since any $Reconstruction$ discards information, some of them will provide more information than the other. It is, therefore, possible to pick optimal maximally-informative $Reconstruction_{optimal}$.\n",
    "\n",
    "Note that even with some motivated $Reconstruction$, the reconstructed channel $\\mathrm{ISGRI\\_ENERGY}$ is quite different from incident photon energy. \n",
    "$ChannelReconstruction$ can be selected to approximate incident $\\mathrm{Energy}$. This might (will??) correspond to $Reconstruction_{optimal}$.\n",
    "\n",
    "#TODO: write lut1-2, factorization of reconstruction\n",
    "#TODO: misreconstruction\n",
    "\n",
    "\n"
   ]
  },
  {
   "cell_type": "markdown",
   "metadata": {},
   "source": [
    "## ISGRI Efficiency components\n",
    "\n",
    "### Pixel efficiency\n",
    "\n",
    "### NOMEX absorption\n",
    "\n",
    "### Uniformity"
   ]
  },
  {
   "cell_type": "code",
   "execution_count": null,
   "metadata": {},
   "outputs": [],
   "source": [
    "# TODO: measure or mimick gain from HE line alone, and from LE line alone. find which one mismatches\n",
    "\n",
    "# TODO:\n",
    "# * reconstruct with det\n",
    "# * reconstruct with det and morph\n",
    "\n",
    "# TODO: \n",
    "# reconstruct effi\n",
    "# reconstruct lut2\n",
    "# reconstruct rsp\n",
    "\n"
   ]
  }
 ],
 "metadata": {
  "interpreter": {
   "hash": "bc60d120f3d0e3f977d308901027337ccc9d58184de7444d8a29f575b7b52057"
  },
  "kernelspec": {
   "display_name": "Python 3.9.6 64-bit ('3.9.6': pyenv)",
   "language": "python",
   "name": "python3"
  },
  "language_info": {
   "codemirror_mode": {
    "name": "ipython",
    "version": 3
   },
   "file_extension": ".py",
   "mimetype": "text/x-python",
   "name": "python",
   "nbconvert_exporter": "python",
   "pygments_lexer": "ipython3",
   "version": "3.9.6"
  },
  "orig_nbformat": 4
 },
 "nbformat": 4,
 "nbformat_minor": 2
}
